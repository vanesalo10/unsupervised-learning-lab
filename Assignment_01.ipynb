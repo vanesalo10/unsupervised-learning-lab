{
 "cells": [
  {
   "cell_type": "code",
   "execution_count": 109,
   "id": "e5cdd3db",
   "metadata": {},
   "outputs": [],
   "source": [
    "import random\n",
    "import numpy as np"
   ]
  },
  {
   "cell_type": "code",
   "execution_count": 110,
   "id": "8e388e46",
   "metadata": {},
   "outputs": [],
   "source": [
    "random.seed(4)\n",
    "np.random.seed(4)"
   ]
  },
  {
   "cell_type": "markdown",
   "id": "a91aa80c",
   "metadata": {},
   "source": [
    "The matrix will be generated with dimentions n and m both between 1 and 10, to facilitate visualization and analisys. Also, the values of the matrix will be random numbers between 0 and 50"
   ]
  },
  {
   "cell_type": "code",
   "execution_count": 111,
   "id": "b6066f20",
   "metadata": {},
   "outputs": [],
   "source": [
    "n = random.randint(1,10)\n",
    "m = random.randint(1,10)"
   ]
  },
  {
   "cell_type": "code",
   "execution_count": 112,
   "id": "6ca7acd7",
   "metadata": {},
   "outputs": [
    {
     "name": "stdout",
     "output_type": "stream",
     "text": [
      "The matrix will be generated with the dimentions mxn with m = 5 and n = 4\n"
     ]
    }
   ],
   "source": [
    "print(f\"The matrix will be generated with the dimentions mxn with m = {m} and n = {n}\")"
   ]
  },
  {
   "cell_type": "code",
   "execution_count": 113,
   "id": "3de2be62",
   "metadata": {},
   "outputs": [
    {
     "name": "stdout",
     "output_type": "stream",
     "text": [
      "Rectangular Matrix Ar:\n",
      "\n",
      "[[46  5  1 40 23]\n",
      " [ 8  9 39 45 30]\n",
      " [40 36 44 38 42]\n",
      " [ 3  0 21 21  9]]\n"
     ]
    }
   ],
   "source": [
    "A_rectangular = np.random.randint(0,50,(n,m))\n",
    "print('Rectangular Matrix Ar:\\n')\n",
    "print(A_rectangular)"
   ]
  },
  {
   "cell_type": "code",
   "execution_count": 114,
   "id": "776eebbd",
   "metadata": {
    "scrolled": true
   },
   "outputs": [
    {
     "name": "stdout",
     "output_type": "stream",
     "text": [
      "Rank of the rectangular matrix Ar: 4\n"
     ]
    }
   ],
   "source": [
    "rank_A = np.linalg.matrix_rank(A_rectangular)\n",
    "print(\"Rank of the rectangular matrix Ar:\", rank_A)"
   ]
  },
  {
   "cell_type": "markdown",
   "id": "7be6c8b3",
   "metadata": {},
   "source": [
    "It's important to know the rank of a matrix since this value provides a lot of important information about the matrix itself and its properties. With this rank value we can obtain the following information:\n",
    "\n",
    "- In this matrix there are 4 linearly independent rows \n",
    "\n",
    "- The nullity of a matrix can be calculated as the difference between the number of columns and the rank of the matrix. In the case of this matrix with rank 4 and 5 columns the nullity is 1, and there is only one linearly independent solution to the equation Ax = 0.\n",
    "\n",
    "- A square matrix is invertible if and only if its rank is equal to its dimension. In this case A is rectangular, however, later it will be demonstrated that the square submatrix of A is invertible"
   ]
  },
  {
   "cell_type": "code",
   "execution_count": 115,
   "id": "c8936967",
   "metadata": {},
   "outputs": [
    {
     "name": "stdout",
     "output_type": "stream",
     "text": [
      "Trace of the rectangular matrix Ar: 120\n"
     ]
    }
   ],
   "source": [
    "trace_A = np.trace(A_rectangular)\n",
    "print(\"Trace of the rectangular matrix Ar:\", trace_A)"
   ]
  },
  {
   "cell_type": "markdown",
   "id": "c4c228ee",
   "metadata": {},
   "source": [
    "Since non-square matrices do not have determinants we are going to select only n rows (with n<m) from the previous matrix"
   ]
  },
  {
   "cell_type": "code",
   "execution_count": 116,
   "id": "df5fb2c5",
   "metadata": {},
   "outputs": [
    {
     "name": "stdout",
     "output_type": "stream",
     "text": [
      "Matrix A:\n",
      "\n",
      "[[46  5  1 40]\n",
      " [ 8  9 39 45]\n",
      " [40 36 44 38]\n",
      " [ 3  0 21 21]]\n"
     ]
    }
   ],
   "source": [
    "A = A_rectangular[0:n,0:n]\n",
    "print('Matrix A:\\n')\n",
    "print(A)"
   ]
  },
  {
   "cell_type": "code",
   "execution_count": 117,
   "id": "6987d0b6",
   "metadata": {},
   "outputs": [
    {
     "name": "stdout",
     "output_type": "stream",
     "text": [
      "Determinant of the matrix A: 414143.9999999995\n"
     ]
    }
   ],
   "source": [
    "det_A = np.linalg.det(A)\n",
    "print('Determinant of the matrix A:',det_A)"
   ]
  },
  {
   "cell_type": "markdown",
   "id": "7fa42bb5",
   "metadata": {},
   "source": [
    "We can say that this matrix is invertible since the determinant is not equal to zero and is a square matrix"
   ]
  },
  {
   "cell_type": "markdown",
   "id": "22846bf6",
   "metadata": {},
   "source": [
    "There are several methods to invert a matrix, including:\n",
    "\n",
    "- Gaussian elimination: this method involves transforming the matrix into row echelon form and then using back substitution to obtain the inverse. It is computationally expensive for large matrices.\n",
    "\n",
    "- LU decomposition: this method involves decomposing the matrix into a lower triangular matrix and an upper triangular matrix, and then using these matrices to obtain the inverse. It is faster than Gaussian elimination and can be used for large matrices.\n",
    "\n",
    "- QR decomposition: this method involves decomposing the matrix into an orthogonal matrix and an upper triangular matrix, and then using these matrices to obtain the inverse. It is also faster than Gaussian elimination and can be used for large matrices.\n",
    "\n",
    "- Singular value decomposition (SVD): this method involves decomposing the matrix into three matrices, and then using these matrices to obtain the inverse. It is a more robust method and can be used for matrices that are ill-conditioned or singular."
   ]
  },
  {
   "cell_type": "markdown",
   "id": "fc92471a",
   "metadata": {},
   "source": [
    "The function numpy.linalg.inv uses the LU decomposition method to compute the inverse of a matrix. "
   ]
  },
  {
   "cell_type": "code",
   "execution_count": 118,
   "id": "95280a09",
   "metadata": {},
   "outputs": [
    {
     "name": "stdout",
     "output_type": "stream",
     "text": [
      "Inverse of the matrix A:\n",
      "\n",
      "[[ 0.01369089 -0.07271384  0.01627695  0.10028396]\n",
      " [-0.01099618  0.08062413  0.00914899 -0.16837622]\n",
      " [-0.01290855 -0.06477457  0.0179865   0.13084338]\n",
      " [ 0.01095271  0.07516226 -0.02031178 -0.09755061]]\n"
     ]
    }
   ],
   "source": [
    "A_inv = np.linalg.inv(A)\n",
    "print('Inverse of the matrix A:\\n')\n",
    "print(A_inv)"
   ]
  },
  {
   "cell_type": "markdown",
   "id": "386e3255",
   "metadata": {},
   "source": [
    "First we are going to calculate the transpose of matrix A"
   ]
  },
  {
   "cell_type": "code",
   "execution_count": 119,
   "id": "2af1b435",
   "metadata": {},
   "outputs": [
    {
     "name": "stdout",
     "output_type": "stream",
     "text": [
      "At = A':\n",
      "[[46  8 40  3]\n",
      " [ 5  9 36  0]\n",
      " [ 1 39 44 21]\n",
      " [40 45 38 21]]\n"
     ]
    }
   ],
   "source": [
    "At = A.transpose()\n",
    "print(\"At = A':\")\n",
    "print(At)"
   ]
  },
  {
   "cell_type": "code",
   "execution_count": 141,
   "id": "4354cd8e",
   "metadata": {},
   "outputs": [
    {
     "name": "stdout",
     "output_type": "stream",
     "text": [
      "A'A:\n",
      "[[3789 1742 2181 3783]\n",
      " [1742 1402 1940 1973]\n",
      " [2181 1940 3899 3908]\n",
      " [3783 1973 3908 5510]]\n"
     ]
    }
   ],
   "source": [
    "AtA = np.matmul(At,A)\n",
    "print(\"A'A:\")\n",
    "print(At_A)"
   ]
  },
  {
   "cell_type": "code",
   "execution_count": 142,
   "id": "62243879",
   "metadata": {},
   "outputs": [
    {
     "name": "stdout",
     "output_type": "stream",
     "text": [
      "AA':\n",
      "[[3742 2252 3584  999]\n",
      " [2252 3691 4070 1788]\n",
      " [3584 4070 6276 1842]\n",
      " [ 999 1788 1842  891]]\n"
     ]
    }
   ],
   "source": [
    "AAt = np.matmul(A,At)\n",
    "print(\"AA':\")\n",
    "print(A_At)"
   ]
  },
  {
   "cell_type": "code",
   "execution_count": 143,
   "id": "4931276b",
   "metadata": {},
   "outputs": [],
   "source": [
    "eig_vals_AtA,eig_vecs_AtA = np.linalg.eig(AtA)"
   ]
  },
  {
   "cell_type": "code",
   "execution_count": 144,
   "id": "4d7a5644",
   "metadata": {},
   "outputs": [],
   "source": [
    "eig_vals_AAt,eig_vecs_AAt = np.linalg.eig(AAt)"
   ]
  },
  {
   "cell_type": "code",
   "execution_count": 145,
   "id": "042cd0c9",
   "metadata": {},
   "outputs": [
    {
     "data": {
      "text/plain": [
       "array([1.21913505e+04, 1.67008481e+03, 1.15875506e+01, 7.26977155e+02])"
      ]
     },
     "execution_count": 145,
     "metadata": {},
     "output_type": "execute_result"
    }
   ],
   "source": [
    "eig_vals_AtA"
   ]
  },
  {
   "cell_type": "code",
   "execution_count": 146,
   "id": "d2594422",
   "metadata": {},
   "outputs": [
    {
     "data": {
      "text/plain": [
       "array([[ 0.48505484,  0.72239504,  0.42209915, -0.25436099],\n",
       "       [ 0.28847657, -0.07728663, -0.6308016 , -0.71616854],\n",
       "       [ 0.50341182, -0.68662419,  0.49874273, -0.16241753],\n",
       "       [ 0.65427793,  0.02682179, -0.41854192,  0.6293041 ]])"
      ]
     },
     "execution_count": 146,
     "metadata": {},
     "output_type": "execute_result"
    }
   ],
   "source": [
    "eig_vecs_AtA"
   ]
  },
  {
   "cell_type": "code",
   "execution_count": 147,
   "id": "28b3c2a2",
   "metadata": {},
   "outputs": [
    {
     "data": {
      "text/plain": [
       "array([1.21913505e+04, 1.67008481e+03, 7.26977155e+02, 1.15875506e+01])"
      ]
     },
     "execution_count": 147,
     "metadata": {},
     "output_type": "execute_result"
    }
   ],
   "source": [
    "eig_vals_AAt"
   ]
  },
  {
   "cell_type": "code",
   "execution_count": 148,
   "id": "68d33cb7",
   "metadata": {},
   "outputs": [
    {
     "data": {
      "text/plain": [
       "array([[-0.45672858, -0.81313171,  0.36080827,  0.0057634 ],\n",
       "       [-0.50312524,  0.5013323 ,  0.50084335, -0.49465833],\n",
       "       [-0.69556143,  0.07533653, -0.71170377,  0.06321745],\n",
       "       [-0.23336302,  0.28601951,  0.33533724,  0.8667661 ]])"
      ]
     },
     "execution_count": 148,
     "metadata": {},
     "output_type": "execute_result"
    }
   ],
   "source": [
    "eig_vecs_AAt"
   ]
  },
  {
   "cell_type": "markdown",
   "id": "b2e23254",
   "metadata": {},
   "source": [
    "The eigenvalues and eigenvectors of A’A and AA’ are related as follows:\n",
    "\n",
    "- The eigenvalues of A’A and AA’ are the same, and the eigenvectors are related by the matrix A and its transpose A’.\n",
    "- If v is an eigenvector of A’A corresponding to an eigenvalue λ, then Av is an eigenvector of AA’ corresponding to the same eigenvalue λ.\n",
    "- If u is an eigenvector of AA’ corresponding to an eigenvalue μ, then A’u is an eigenvector of A’A corresponding to the same eigenvalue μ.\n"
   ]
  },
  {
   "cell_type": "code",
   "execution_count": 159,
   "id": "998a79c0",
   "metadata": {},
   "outputs": [
    {
     "data": {
      "text/plain": [
       "array([0.45672858, 0.50312524, 0.69556143, 0.23336302])"
      ]
     },
     "execution_count": 159,
     "metadata": {},
     "output_type": "execute_result"
    }
   ],
   "source": [
    "np.matmul(A,eig_vecs_AtA[:,0])/np.linalg.norm(np.matmul(A,eig_vecs_AtA[:,0]))"
   ]
  },
  {
   "cell_type": "code",
   "execution_count": 160,
   "id": "1f42bc41",
   "metadata": {},
   "outputs": [
    {
     "data": {
      "text/plain": [
       "array([-0.48505484, -0.28847657, -0.50341182, -0.65427793])"
      ]
     },
     "execution_count": 160,
     "metadata": {},
     "output_type": "execute_result"
    }
   ],
   "source": [
    "np.matmul(At,eig_vecs_AAt[:,0])/np.linalg.norm(np.matmul(At,eig_vecs_AAt[:,0]))"
   ]
  },
  {
   "cell_type": "code",
   "execution_count": null,
   "id": "c875efa2",
   "metadata": {},
   "outputs": [],
   "source": []
  }
 ],
 "metadata": {
  "kernelspec": {
   "display_name": "Python 3 (ipykernel)",
   "language": "python",
   "name": "python3"
  },
  "language_info": {
   "codemirror_mode": {
    "name": "ipython",
    "version": 3
   },
   "file_extension": ".py",
   "mimetype": "text/x-python",
   "name": "python",
   "nbconvert_exporter": "python",
   "pygments_lexer": "ipython3",
   "version": "3.8.10"
  }
 },
 "nbformat": 4,
 "nbformat_minor": 5
}
